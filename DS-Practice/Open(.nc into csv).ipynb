{
 "cells": [
  {
   "cell_type": "code",
   "execution_count": 5,
   "id": "e7260bd9",
   "metadata": {},
   "outputs": [
    {
     "name": "stdout",
     "output_type": "stream",
     "text": [
      "<class 'netCDF4._netCDF4.Dataset'>\n",
      "root group (NETCDF4 data model, file format HDF5):\n",
      "    Conventions: CF-1.11\n",
      "    title: Mediterranean Sea SST Analysis L4, Reprocessed using ESA CCI SST v.2.0, C3S v.2.0 and PFV53 data, 0.05 deg. daily (cmems_SST_MED_SST_L4_REP_OBSERVATIONS_010_021)\n",
      "    institution: GOS\n",
      "    source: [1982-2016] ESA CCI SST v.2.0 L3C product (SST at 0.2m); [2017-2018] C3S v.2.0 L3C product (SST at 0.2m); [1982-2014]  Pathfinder-PFV5.3 L3C product (SST skin)\n",
      "    history: GOS-CMEMS processor V4: new version\n",
      "    references: A. Pisano, B. Buongiorno Nardelli, C. Tronconi, R. Santoleri: The new Mediterranean optimally interpolated pathfinder AVHRR SST Dataset (1982-2012). /Remote Sensing of Environment./ 176 (2016) 107-116, doi:10.1016/j.rse.2016.01.019; http://pathfinder.nodc.noaa.gov and Casey, K.S., T.B. Brandon, P. Cornillon, and R. Evans: The Past, Present and Future of the AVHRR Pathfinder SST Program, in Oceanography from Space: Revisited, eds. V. Barale, J.F.R. Gower, and L. Alberotanza, Springer, 2010. DOI: 10.1007/978-90-481-8681-5_16.\n",
      "    comment: WARNING: some applications are unable to properly handle byte values. If Values >127 are encounterd, please subtract 256\n",
      "    subset:source: ARCO data downloaded from the Marine Data Store using the MyOcean Data Portal\n",
      "    subset:productId: SST_MED_SST_L4_REP_OBSERVATIONS_010_021\n",
      "    subset:datasetId: cmems_SST_MED_SST_L4_REP_OBSERVATIONS_010_021_202007\n",
      "    subset:date: 2024-10-10T20:34:20.698Z\n",
      "    dimensions(sizes): latitude(43), longitude(40), time(365)\n",
      "    variables(dimensions): float32 analysed_sst(time, latitude, longitude), float32 latitude(latitude), float32 longitude(longitude), float64 time(time)\n",
      "    groups: \n"
     ]
    }
   ],
   "source": [
    "import os   \n",
    "from netCDF4 import Dataset, num2date\n",
    "import numpy as np\n",
    "import pandas as pd\n",
    "\n",
    "dataset = Dataset(r\"C:\\Users\\hp\\WorldQuantum\\Atmos\\data sources\\SST_MED_Flash.nc\")    \n",
    "    \n",
    "print(dataset)   "
   ]
  },
  {
   "cell_type": "code",
   "execution_count": 12,
   "id": "fd042b9e",
   "metadata": {},
   "outputs": [
    {
     "name": "stdout",
     "output_type": "stream",
     "text": [
      "Detailed Statistical Summary:\n",
      "       analysed_sst\n",
      "count    365.000000\n",
      "mean      21.231774\n",
      "std        3.429018\n",
      "min       16.434544\n",
      "25%       17.559086\n",
      "50%       21.119187\n",
      "75%       23.752229\n",
      "max       27.600988\n"
     ]
    }
   ],
   "source": [
    "# Extract Sea surface height above sea level\n",
    "sea_surface_hight = dataset.variables['analysed_sst'][:]\n",
    "time = dataset.variables['time'][:]\n",
    "\n",
    "# Convert the time variable to cftime objects\n",
    "time_units = dataset.variables['time'].units  # Extract the units of the time variable\n",
    "time_calendar = dataset.variables['time'].calendar if 'calendar' in dataset.variables['time'].ncattrs() else 'standard'\n",
    "\n",
    "# Convert time values to cftime objects\n",
    "time_converted = num2date(time, units=time_units, calendar=time_calendar)\n",
    "\n",
    "# Convert cftime objects to strings in YYYY-MM-DD format\n",
    "time_converted_str = [t.strftime('%Y-%m-%d') for t in time_converted]\n",
    "\n",
    "sla_mean_per_time = sea_surface_hight.mean(axis=(1, 2))\n",
    "\n",
    "# Create a DataFrame with time and the mean SLA values\n",
    "hight_df = pd.DataFrame({\n",
    "    'time': time_converted_str,\n",
    "    'analysed_sst': sla_mean_per_time\n",
    "})\n",
    "\n",
    "hight_df[\"analysed_sst\"] = hight_df[\"analysed_sst\"] - 273.15\n",
    "hight_df.to_csv(r\"C:\\Users\\hp\\WorldQuantum\\Atmos\\data sources\\SST_MED_Flash.csv\", index=False)\n",
    "\n",
    "\n",
    "description = hight_df.describe()\n",
    "\n",
    "print(\"Detailed Statistical Summary:\")\n",
    "print(description)"
   ]
  },
  {
   "cell_type": "code",
   "execution_count": null,
   "id": "9a3929f8-d226-4217-9ea8-1e411c1a6614",
   "metadata": {},
   "outputs": [],
   "source": []
  }
 ],
 "metadata": {
  "kernelspec": {
   "display_name": "Python 3 (ipykernel)",
   "language": "python",
   "name": "python3"
  },
  "language_info": {
   "codemirror_mode": {
    "name": "ipython",
    "version": 3
   },
   "file_extension": ".py",
   "mimetype": "text/x-python",
   "name": "python",
   "nbconvert_exporter": "python",
   "pygments_lexer": "ipython3",
   "version": "3.11.7"
  }
 },
 "nbformat": 4,
 "nbformat_minor": 5
}
